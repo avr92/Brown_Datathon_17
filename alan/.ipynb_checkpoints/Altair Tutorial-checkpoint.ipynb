{
 "cells": [
  {
   "cell_type": "code",
   "execution_count": 11,
   "metadata": {
    "collapsed": false
   },
   "outputs": [
    {
     "ename": "SyntaxError",
     "evalue": "EOL while scanning string literal (<ipython-input-11-9e50f0b03e07>, line 14)",
     "output_type": "error",
     "traceback": [
      "\u001b[0;36m  File \u001b[0;32m\"<ipython-input-11-9e50f0b03e07>\"\u001b[0;36m, line \u001b[0;32m14\u001b[0m\n\u001b[0;31m    domain=['sun', 'fog],\u001b[0m\n\u001b[0m                        ^\u001b[0m\n\u001b[0;31mSyntaxError\u001b[0m\u001b[0;31m:\u001b[0m EOL while scanning string literal\n"
     ]
    }
   ],
   "source": [
    "from altair import *\n",
    "\n",
    "chart = Chart(Data(\n",
    "    format=DataFormat(\n",
    "        type='csv',\n",
    "    ),\n",
    "    url='http://vega.github.io/vega-lite/data/seattle-weather.csv',\n",
    ")).mark_bar().encode(\n",
    "    color=Color('weather:N',\n",
    "        legend=Legend(\n",
    "            title='Weather type',\n",
    "        ),\n",
    "        scale=Scale(\n",
    "            domain=['sun', 'fog'],\n",
    "            range=['#e7ba52', '#c7c7c7'],\n",
    "        ),\n",
    "    ),\n",
    "    x=X('date:T',\n",
    "        axis=Axis(\n",
    "            title='Month of the year',\n",
    "        ),\n",
    "        timeUnit='month',\n",
    "    ),\n",
    "    y='count(*):Q',\n",
    ")\n",
    "print(chart.to_json(indent=2))"
   ]
  },
  {
   "cell_type": "code",
   "execution_count": null,
   "metadata": {
    "collapsed": true
   },
   "outputs": [],
   "source": []
  }
 ],
 "metadata": {
  "kernelspec": {
   "display_name": "Python 2",
   "language": "python",
   "name": "python2"
  },
  "language_info": {
   "codemirror_mode": {
    "name": "ipython",
    "version": 2
   },
   "file_extension": ".py",
   "mimetype": "text/x-python",
   "name": "python",
   "nbconvert_exporter": "python",
   "pygments_lexer": "ipython2",
   "version": "2.7.12"
  }
 },
 "nbformat": 4,
 "nbformat_minor": 2
}
