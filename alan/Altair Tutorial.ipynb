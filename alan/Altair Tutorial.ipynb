{
 "cells": [
  {
   "cell_type": "code",
   "execution_count": 12,
   "metadata": {
    "collapsed": false
   },
   "outputs": [
    {
     "name": "stdout",
     "output_type": "stream",
     "text": [
      "{\n",
      "  \"data\": {\n",
      "    \"format\": {\n",
      "      \"type\": \"csv\"\n",
      "    }, \n",
      "    \"url\": \"http://vega.github.io/vega-lite/data/seattle-weather.csv\"\n",
      "  }, \n",
      "  \"encoding\": {\n",
      "    \"color\": {\n",
      "      \"field\": \"weather\", \n",
      "      \"legend\": {\n",
      "        \"title\": \"Weather type\"\n",
      "      }, \n",
      "      \"scale\": {\n",
      "        \"domain\": [\n",
      "          \"sun\", \n",
      "          \"fog\"\n",
      "        ], \n",
      "        \"range\": [\n",
      "          \"#e7ba52\", \n",
      "          \"#c7c7c7\"\n",
      "        ]\n",
      "      }, \n",
      "      \"type\": \"nominal\"\n",
      "    }, \n",
      "    \"x\": {\n",
      "      \"axis\": {\n",
      "        \"title\": \"Month of the year\"\n",
      "      }, \n",
      "      \"field\": \"date\", \n",
      "      \"timeUnit\": \"month\", \n",
      "      \"type\": \"temporal\"\n",
      "    }, \n",
      "    \"y\": {\n",
      "      \"aggregate\": \"count\", \n",
      "      \"field\": \"*\", \n",
      "      \"type\": \"quantitative\"\n",
      "    }\n",
      "  }, \n",
      "  \"mark\": \"bar\"\n",
      "}\n"
     ]
    }
   ],
   "source": [
    "from altair import *\n",
    "\n",
    "chart = Chart(Data(\n",
    "    format=DataFormat(\n",
    "        type='csv',\n",
    "    ),\n",
    "    url='http://vega.github.io/vega-lite/data/seattle-weather.csv',\n",
    ")).mark_bar().encode(\n",
    "    color=Color('weather:N',\n",
    "        legend=Legend(\n",
    "            title='Weather type',\n",
    "        ),\n",
    "        scale=Scale(\n",
    "            domain=['sun', 'fog'],\n",
    "            range=['#e7ba52', '#c7c7c7'],\n",
    "        ),\n",
    "    ),\n",
    "    x=X('date:T',\n",
    "        axis=Axis(\n",
    "            title='Month of the year',\n",
    "        ),\n",
    "        timeUnit='month',\n",
    "    ),\n",
    "    y='count(*):Q',\n",
    ")\n",
    "print(chart.to_json(indent=2))"
   ]
  },
  {
   "cell_type": "code",
   "execution_count": null,
   "metadata": {
    "collapsed": true
   },
   "outputs": [],
   "source": []
  }
 ],
 "metadata": {
  "kernelspec": {
   "display_name": "Python 2",
   "language": "python",
   "name": "python2"
  },
  "language_info": {
   "codemirror_mode": {
    "name": "ipython",
    "version": 2
   },
   "file_extension": ".py",
   "mimetype": "text/x-python",
   "name": "python",
   "nbconvert_exporter": "python",
   "pygments_lexer": "ipython2",
   "version": "2.7.12"
  }
 },
 "nbformat": 4,
 "nbformat_minor": 2
}
